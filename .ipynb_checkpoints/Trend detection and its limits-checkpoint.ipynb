{
 "cells": [
  {
   "cell_type": "markdown",
   "metadata": {},
   "source": [
    "#### Trend detection and its limits\n",
    " * A Python implementation of Mann-Kendall-Trend https://github.com/mps9506/Mann-Kendall-Trend\n",
    " * Check coding outlines ESMVal\n",
    " * Currently works with test data\n",
    " * For 40y of seasonal data (4 points per year), cpu-time = 5 hours for full dataset\n",
    " * How to handle missing data?\n",
    " \n",
    "#### Notes :\n",
    " * Sen-slope estimator? Is part of Man-Kendall? (ask Mathias)"
   ]
  },
  {
   "cell_type": "code",
   "execution_count": null,
   "metadata": {},
   "outputs": [],
   "source": [
    "# Installed Mann-Kendall-Trend on ~/mypy"
   ]
  },
  {
   "cell_type": "code",
   "execution_count": 1,
   "metadata": {},
   "outputs": [],
   "source": [
    "from MannKendallTrend import mktest\n",
    "import numpy as np\n",
    "import matplotlib.pyplot as plt\n",
    "import pprint\n",
    "import random\n",
    "import glob"
   ]
  },
  {
   "cell_type": "markdown",
   "metadata": {},
   "source": [
    "# MK timing"
   ]
  },
  {
   "cell_type": "markdown",
   "metadata": {},
   "source": [
    "# On SM_Combined"
   ]
  }
 ],
 "metadata": {
  "kernelspec": {
   "display_name": "Python 2",
   "language": "python",
   "name": "python2"
  },
  "language_info": {
   "codemirror_mode": {
    "name": "ipython",
    "version": 2
   },
   "file_extension": ".py",
   "mimetype": "text/x-python",
   "name": "python",
   "nbconvert_exporter": "python",
   "pygments_lexer": "ipython2",
   "version": "2.7.15"
  }
 },
 "nbformat": 4,
 "nbformat_minor": 2
}
