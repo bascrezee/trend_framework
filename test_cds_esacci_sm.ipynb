{
 "cells": [
  {
   "cell_type": "code",
   "execution_count": 3,
   "metadata": {},
   "outputs": [],
   "source": [
    "from c3s_511_trends import TrendLims1D"
   ]
  },
  {
   "cell_type": "markdown",
   "metadata": {},
   "source": [
    "# Dataset description\n",
    "ESA CCI Soilmoisture Combined. A soilmoisture product that blends different satellite products (both active and passive). \n",
    "\n",
    "The selected gridpoint SAUD (22.1N;50.8E) corresponds to desert in Saudi Arabia. Su et al. 2006 [1] shows detected breakpoints in their Figure 2 using two different tests. For the selected gridpoint they find a breakpoint at the start of 1998 (t3,4) and another one halfway 2002 (t4,5) using alpha=0.01 for both tests. As can be seen below, the dataset contains several periods with missing data. We get rid of these missing data through resampling to monthly means as is done in Su et al. 2006. \n",
    "\n",
    "The selected gridpoint AUST (19.1S;132.6E) is in the central northern territory in Australia. Also for this gridpoint, a breakpoint is found by Su et al. 2006.\n",
    "\n",
    "[1] Su, C.-H., D. Ryu, W. Dorigo,\n",
    "S. Zwieback, A. Gruber, C. Albergel,\n",
    "R. H. Reichle, and W. Wagner\n",
    "(2016), Homogeneity of a global\n",
    "multisatellite soil moisture cli-\n",
    "mate data record, Geophys.\n",
    "Res. Lett., 43, 11,245–11,252,\n",
    "doi:10.1002/2016GL070458."
   ]
  },
  {
   "cell_type": "markdown",
   "metadata": {},
   "source": [
    "# Breakpoint detection\n"
   ]
  },
  {
   "cell_type": "code",
   "execution_count": null,
   "metadata": {
    "scrolled": true
   },
   "outputs": [
    {
     "name": "stdout",
     "output_type": "stream",
     "text": [
      "Loaded datafile ./test_data/cds_esacci_sm_SAUD.nc\n"
     ]
    },
    {
     "name": "stderr",
     "output_type": "stream",
     "text": [
      "/net/exo/landclim/crezees/conda/envs/esmval2/lib/python3.6/site-packages/iris/fileformats/cf.py:1143: IrisDeprecation: NetCDF default loading behaviour currently does not expose variables which define reference surfaces for dimensionless vertical coordinates as independent Cubes. This behaviour is deprecated in favour of automatic promotion to Cubes. To switch to the new behaviour, set iris.FUTURE.netcdf_promote to True.\n",
      "  warn_deprecated(msg)\n",
      "/net/exo/landclim/crezees/conda/envs/esmval2/lib/python3.6/site-packages/iris/fileformats/_pyke_rules/compiled_krb/fc_rules_cf_fc.py:1813: FutureWarning: Conversion of the second argument of issubdtype from `str` to `str` is deprecated. In future, it will be treated as `np.str_ == np.dtype(str).type`.\n",
      "  if np.issubdtype(cf_var.dtype, np.str):\n",
      "/net/exo/landclim/crezees/conda/envs/esmval2/lib/python3.6/site-packages/iris/fileformats/_pyke_rules/compiled_krb/fc_rules_cf_fc.py:1813: FutureWarning: Conversion of the second argument of issubdtype from `str` to `str` is deprecated. In future, it will be treated as `np.str_ == np.dtype(str).type`.\n",
      "  if np.issubdtype(cf_var.dtype, np.str):\n",
      "/net/exo/landclim/crezees/conda/envs/esmval2/lib/python3.6/site-packages/iris/fileformats/_pyke_rules/compiled_krb/fc_rules_cf_fc.py:1813: FutureWarning: Conversion of the second argument of issubdtype from `str` to `str` is deprecated. In future, it will be treated as `np.str_ == np.dtype(str).type`.\n",
      "  if np.issubdtype(cf_var.dtype, np.str):\n",
      "/net/exo/landclim/crezees/conda/envs/esmval2/lib/python3.6/site-packages/iris/fileformats/_pyke_rules/compiled_krb/fc_rules_cf_fc.py:1813: FutureWarning: Conversion of the second argument of issubdtype from `str` to `str` is deprecated. In future, it will be treated as `np.str_ == np.dtype(str).type`.\n",
      "  if np.issubdtype(cf_var.dtype, np.str):\n",
      "/net/exo/landclim/crezees/conda/envs/esmval2/lib/python3.6/site-packages/iris/fileformats/_pyke_rules/compiled_krb/fc_rules_cf_fc.py:1813: FutureWarning: Conversion of the second argument of issubdtype from `str` to `str` is deprecated. In future, it will be treated as `np.str_ == np.dtype(str).type`.\n",
      "  if np.issubdtype(cf_var.dtype, np.str):\n",
      "/net/exo/landclim/crezees/conda/envs/esmval2/lib/python3.6/site-packages/iris/fileformats/_pyke_rules/compiled_krb/fc_rules_cf_fc.py:1813: FutureWarning: Conversion of the second argument of issubdtype from `str` to `str` is deprecated. In future, it will be treated as `np.str_ == np.dtype(str).type`.\n",
      "  if np.issubdtype(cf_var.dtype, np.str):\n",
      "/net/exo/landclim/crezees/conda/envs/esmval2/lib/python3.6/site-packages/iris/fileformats/_pyke_rules/compiled_krb/fc_rules_cf_fc.py:1813: FutureWarning: Conversion of the second argument of issubdtype from `str` to `str` is deprecated. In future, it will be treated as `np.str_ == np.dtype(str).type`.\n",
      "  if np.issubdtype(cf_var.dtype, np.str):\n",
      "/net/exo/landclim/crezees/conda/envs/esmval2/lib/python3.6/site-packages/iris/fileformats/_pyke_rules/compiled_krb/fc_rules_cf_fc.py:1813: FutureWarning: Conversion of the second argument of issubdtype from `str` to `str` is deprecated. In future, it will be treated as `np.str_ == np.dtype(str).type`.\n",
      "  if np.issubdtype(cf_var.dtype, np.str):\n",
      "/net/exo/landclim/crezees/conda/envs/esmval2/lib/python3.6/site-packages/iris/fileformats/_pyke_rules/compiled_krb/fc_rules_cf_fc.py:1813: FutureWarning: Conversion of the second argument of issubdtype from `str` to `str` is deprecated. In future, it will be treated as `np.str_ == np.dtype(str).type`.\n",
      "  if np.issubdtype(cf_var.dtype, np.str):\n"
     ]
    }
   ],
   "source": [
    "saud = TrendLims1D('CDS ESACCI SM - SAUD')\n",
    "saud.load_file('./test_data/cds_esacci_sm_SAUD.nc',var_name='sm')\n",
    "saud.subset(slice('1988','2017'))\n",
    "saud.plot('SAUD daily')\n",
    "saud.resample('M')\n",
    "saud.plot('SAUD monthly')\n",
    "saud.breakpoint_recipe_differences(resamplefreq='M')\n",
    "saud.breakpoint_recipe_values(resamplefreq='M')"
   ]
  },
  {
   "cell_type": "markdown",
   "metadata": {},
   "source": [
    "### The timeseries is indeed marked as suspect for the breakpoint test applied to values and to differences. This is consistent with Su et al. 2006. "
   ]
  },
  {
   "cell_type": "code",
   "execution_count": null,
   "metadata": {},
   "outputs": [],
   "source": [
    "oman = TrendLims1D('CDS ESACCI SM - OMAN')\n",
    "oman.load_file('./test_data/cds_esacci_sm_OMAN.nc',var_name='sm')\n",
    "oman.subset(slice('1988','1997'))\n",
    "oman.plot('OMAN daily')\n",
    "oman.resample('M')\n",
    "oman.plot('OMAN monthly')\n",
    "saud.breakpoint_recipe_differences(resamplefreq='M')\n",
    "saud.breakpoint_recipe_values(resamplefreq='M')"
   ]
  },
  {
   "cell_type": "markdown",
   "metadata": {},
   "source": [
    "### The timeseries for OMAN is also marked as suspect for the breakpoint test applied to values and to differences. This is consistent with Su et al. 2006. "
   ]
  },
  {
   "cell_type": "code",
   "execution_count": null,
   "metadata": {},
   "outputs": [],
   "source": [
    "aust = TrendLims1D('CDS ESACCI SM - AUST')\n",
    "aust.load_file('./test_data/cds_esacci_sm_AUST.nc',var_name='sm')\n",
    "aust.subset(slice('1991','2017'))\n",
    "aust.plot('AUST daily')\n",
    "aust.resample('M')\n",
    "aust.plot('AUST monthly')\n",
    "# Note that now the breakpoint detection is applied to yearly values (the default for these functions), \n",
    "# this choice was made since there were data gaps\n",
    "aust.breakpoint_recipe_differences()\n",
    "aust.breakpoint_recipe_values()"
   ]
  },
  {
   "cell_type": "code",
   "execution_count": null,
   "metadata": {},
   "outputs": [],
   "source": [
    "# Now try another subset, and use monthly values\n",
    "aust.reset()\n",
    "aust.subset(slice('2002','2017'))\n",
    "aust.plot('AUST daily')\n",
    "aust.resample('M')\n",
    "aust.plot('AUST monthly')\n",
    "# Note that now the breakpoint detection is applied to yearly values (the default for these functions), \n",
    "# this choice was made since there were data gaps\n",
    "aust.breakpoint_recipe_differences(resamplefreq='M')\n",
    "aust.breakpoint_recipe_values(resamplefreq='M')"
   ]
  },
  {
   "cell_type": "markdown",
   "metadata": {},
   "source": [
    "# Timeseries length needed to assess GCOS stability for three different locations"
   ]
  },
  {
   "cell_type": "code",
   "execution_count": null,
   "metadata": {},
   "outputs": [],
   "source": [
    "oman.weatherhead_framework(trend_magnitude=0.001)"
   ]
  },
  {
   "cell_type": "code",
   "execution_count": null,
   "metadata": {},
   "outputs": [],
   "source": [
    "saud.weatherhead_framework(trend_magnitude=0.001)"
   ]
  },
  {
   "cell_type": "code",
   "execution_count": null,
   "metadata": {},
   "outputs": [],
   "source": [
    "aust.weatherhead_framework(trend_magnitude=0.001)"
   ]
  },
  {
   "cell_type": "markdown",
   "metadata": {},
   "source": [
    "### The timeseries length needed to assess GCOS stability differs from ~40 years for SAUD/OMAN to ~97 years for Australia"
   ]
  },
  {
   "cell_type": "markdown",
   "metadata": {},
   "source": [
    "# Conclusions\n",
    "\n",
    " - Testing three different grid points in a 'blended' satellite product covering about 30 years\n",
    "\n",
    " - It was found that breakpoints are detected when they are expected to occur according to Su et al. It was not yet tested how the tests perform in regions where Su et al. do not detect any breakpoints\n",
    " \n",
    " - The timeseries length needed to assess GCOS stability shows a strong variation between the different timeseries, from 40 to 97 years. These values seem reasonable."
   ]
  },
  {
   "cell_type": "code",
   "execution_count": null,
   "metadata": {},
   "outputs": [],
   "source": []
  }
 ],
 "metadata": {
  "kernelspec": {
   "display_name": "Python 3",
   "language": "python",
   "name": "python3"
  },
  "language_info": {
   "codemirror_mode": {
    "name": "ipython",
    "version": 3
   },
   "file_extension": ".py",
   "mimetype": "text/x-python",
   "name": "python",
   "nbconvert_exporter": "python",
   "pygments_lexer": "ipython3",
   "version": "3.6.6"
  }
 },
 "nbformat": 4,
 "nbformat_minor": 2
}
