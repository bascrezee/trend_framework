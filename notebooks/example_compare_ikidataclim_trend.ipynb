{
 "cells": [
  {
   "cell_type": "code",
   "execution_count": 1,
   "metadata": {},
   "outputs": [
    {
     "name": "stderr",
     "output_type": "stream",
     "text": [
      "/net/exo/landclim/crezees/conda/envs/esmval2/lib/python3.6/site-packages/matplotlib/cbook/deprecation.py:107: MatplotlibDeprecationWarning: The mpl_toolkits.axes_grid module was deprecated in version 2.1. Use mpl_toolkits.axes_grid1 and mpl_toolkits.axisartist provies the same functionality instead.\n",
      "  warnings.warn(message, mplDeprecation, stacklevel=1)\n"
     ]
    }
   ],
   "source": [
    "from c3s_511_trends import TrendLims1D"
   ]
  },
  {
   "cell_type": "code",
   "execution_count": 2,
   "metadata": {},
   "outputs": [
    {
     "name": "stdout",
     "output_type": "stream",
     "text": [
      "Created an artificial timeseries\n",
      "Creating a plot with label: None\n",
      "This timeseries is marked as Suspect (value based)\n"
     ]
    },
    {
     "data": {
      "text/html": [
       "<div>\n",
       "<style scoped>\n",
       "    .dataframe tbody tr th:only-of-type {\n",
       "        vertical-align: middle;\n",
       "    }\n",
       "\n",
       "    .dataframe tbody tr th {\n",
       "        vertical-align: top;\n",
       "    }\n",
       "\n",
       "    .dataframe thead th {\n",
       "        text-align: right;\n",
       "    }\n",
       "</style>\n",
       "<table border=\"1\" class=\"dataframe\">\n",
       "  <thead>\n",
       "    <tr style=\"text-align: right;\">\n",
       "      <th></th>\n",
       "      <th>method</th>\n",
       "      <th>estimate</th>\n",
       "      <th>estimate_formatted</th>\n",
       "      <th>p.value</th>\n",
       "    </tr>\n",
       "  </thead>\n",
       "  <tbody>\n",
       "    <tr>\n",
       "      <th>0</th>\n",
       "      <td>Standard Normal Homogeneity Test (SNHT)</td>\n",
       "      <td>21.0</td>\n",
       "      <td>1922-12-31</td>\n",
       "      <td>0.000000e+00</td>\n",
       "    </tr>\n",
       "    <tr>\n",
       "      <th>1</th>\n",
       "      <td>Pettitt's test for single change-point detection</td>\n",
       "      <td>53.0</td>\n",
       "      <td>1954-12-31</td>\n",
       "      <td>4.881842e-14</td>\n",
       "    </tr>\n",
       "    <tr>\n",
       "      <th>2</th>\n",
       "      <td>Buishand range test</td>\n",
       "      <td>53.0</td>\n",
       "      <td>1954-12-31</td>\n",
       "      <td>0.000000e+00</td>\n",
       "    </tr>\n",
       "    <tr>\n",
       "      <th>3</th>\n",
       "      <td>Bartels's test for randomness</td>\n",
       "      <td>NaN</td>\n",
       "      <td>NaT</td>\n",
       "      <td>1.252516e-17</td>\n",
       "    </tr>\n",
       "  </tbody>\n",
       "</table>\n",
       "</div>"
      ],
      "text/plain": [
       "                                             method  estimate  \\\n",
       "0           Standard Normal Homogeneity Test (SNHT)      21.0   \n",
       "1  Pettitt's test for single change-point detection      53.0   \n",
       "2                               Buishand range test      53.0   \n",
       "3                     Bartels's test for randomness       NaN   \n",
       "\n",
       "  estimate_formatted       p.value  \n",
       "0         1922-12-31  0.000000e+00  \n",
       "1         1954-12-31  4.881842e-14  \n",
       "2         1954-12-31  0.000000e+00  \n",
       "3                NaT  1.252516e-17  "
      ]
     },
     "execution_count": 2,
     "metadata": {},
     "output_type": "execute_result"
    },
    {
     "data": {
      "image/png": "[encoded data removed]",
      "text/plain": [
       "<Figure size 432x288 with 1 Axes>"
      ]
     },
     "metadata": {
      "needs_background": "light"
     },
     "output_type": "display_data"
    }
   ],
   "source": [
    "mydat = TrendLims1D('test data')\n",
    "mydat.create_artificial()\n",
    "mydat.plot()\n",
    "mydat.breakpoint_recipe_values()\n",
    "mydat.breakpoints"
   ]
  },
  {
   "cell_type": "code",
   "execution_count": 3,
   "metadata": {},
   "outputs": [
    {
     "name": "stdout",
     "output_type": "stream",
     "text": [
      "Warning: setting RNULLType to FloatVector with length zero before conversion to Python dictionary\n"
     ]
    },
    {
     "data": {
      "text/html": [
       "<div>\n",
       "<style scoped>\n",
       "    .dataframe tbody tr th:only-of-type {\n",
       "        vertical-align: middle;\n",
       "    }\n",
       "\n",
       "    .dataframe tbody tr th {\n",
       "        vertical-align: top;\n",
       "    }\n",
       "\n",
       "    .dataframe thead th {\n",
       "        text-align: right;\n",
       "    }\n",
       "</style>\n",
       "<table border=\"1\" class=\"dataframe\">\n",
       "  <thead>\n",
       "    <tr style=\"text-align: right;\">\n",
       "      <th></th>\n",
       "      <th>method</th>\n",
       "      <th>statistic</th>\n",
       "      <th>breakpoint</th>\n",
       "      <th>significance</th>\n",
       "    </tr>\n",
       "  </thead>\n",
       "  <tbody>\n",
       "    <tr>\n",
       "      <th>0</th>\n",
       "      <td>SNH Test</td>\n",
       "      <td>[59.04303555887901]</td>\n",
       "      <td>[21]</td>\n",
       "      <td>[p1]</td>\n",
       "    </tr>\n",
       "    <tr>\n",
       "      <th>1</th>\n",
       "      <td>Petitt Test</td>\n",
       "      <td>[2297.0]</td>\n",
       "      <td>[53]</td>\n",
       "      <td>[p1]</td>\n",
       "    </tr>\n",
       "    <tr>\n",
       "      <th>2</th>\n",
       "      <td>Buishand Range Test</td>\n",
       "      <td>[3.674176078230663]</td>\n",
       "      <td>[54]</td>\n",
       "      <td>[p1]</td>\n",
       "    </tr>\n",
       "    <tr>\n",
       "      <th>3</th>\n",
       "      <td>Von Neumann Ratio test</td>\n",
       "      <td>[0.2348268314568477]</td>\n",
       "      <td>[]</td>\n",
       "      <td>[p1]</td>\n",
       "    </tr>\n",
       "  </tbody>\n",
       "</table>\n",
       "</div>"
      ],
      "text/plain": [
       "                   method             statistic breakpoint significance\n",
       "0                SNH Test   [59.04303555887901]       [21]         [p1]\n",
       "1             Petitt Test              [2297.0]       [53]         [p1]\n",
       "2     Buishand Range Test   [3.674176078230663]       [54]         [p1]\n",
       "3  Von Neumann Ratio test  [0.2348268314568477]         []         [p1]"
      ]
     },
     "execution_count": 3,
     "metadata": {},
     "output_type": "execute_result"
    }
   ],
   "source": [
    "mydat.breakpoint_recipe_values(rpackagename='iki.dataclim')\n",
    "mydat.breakpoints"
   ]
  },
  {
   "cell_type": "code",
   "execution_count": null,
   "metadata": {},
   "outputs": [],
   "source": []
  }
 ],
 "metadata": {
  "kernelspec": {
   "display_name": "Python 3",
   "language": "python",
   "name": "python3"
  },
  "language_info": {
   "codemirror_mode": {
    "name": "ipython",
    "version": 3
   },
   "file_extension": ".py",
   "mimetype": "text/x-python",
   "name": "python",
   "nbconvert_exporter": "python",
   "pygments_lexer": "ipython3",
   "version": "3.6.6"
  }
 },
 "nbformat": 4,
 "nbformat_minor": 2
}
