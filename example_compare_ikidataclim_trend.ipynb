{
 "cells": [
  {
   "cell_type": "code",
   "execution_count": 2,
   "metadata": {},
   "outputs": [],
   "source": [
    "from c3s_511_trends import TrendLims1D"
   ]
  },
  {
   "cell_type": "code",
   "execution_count": 3,
   "metadata": {},
   "outputs": [
    {
     "name": "stdout",
     "output_type": "stream",
     "text": [
      "Created an artificial timeseries\n",
      "Creating a plot with label: None\n",
      "This timeseries is marked as Suspect (value based)\n"
     ]
    },
    {
     "data": {
      "text/html": [
       "<div>\n",
       "<style scoped>\n",
       "    .dataframe tbody tr th:only-of-type {\n",
       "        vertical-align: middle;\n",
       "    }\n",
       "\n",
       "    .dataframe tbody tr th {\n",
       "        vertical-align: top;\n",
       "    }\n",
       "\n",
       "    .dataframe thead th {\n",
       "        text-align: right;\n",
       "    }\n",
       "</style>\n",
       "<table border=\"1\" class=\"dataframe\">\n",
       "  <thead>\n",
       "    <tr style=\"text-align: right;\">\n",
       "      <th></th>\n",
       "      <th>method</th>\n",
       "      <th>estimate</th>\n",
       "      <th>estimate_formatted</th>\n",
       "      <th>p.value</th>\n",
       "    </tr>\n",
       "  </thead>\n",
       "  <tbody>\n",
       "    <tr>\n",
       "      <th>0</th>\n",
       "      <td>Standard Normal Homogeneity Test (SNHT)</td>\n",
       "      <td>50.0</td>\n",
       "      <td>1951-12-31</td>\n",
       "      <td>0.000000e+00</td>\n",
       "    </tr>\n",
       "    <tr>\n",
       "      <th>1</th>\n",
       "      <td>Pettitt's test for single change-point detection</td>\n",
       "      <td>50.0</td>\n",
       "      <td>1951-12-31</td>\n",
       "      <td>1.668850e-14</td>\n",
       "    </tr>\n",
       "    <tr>\n",
       "      <th>2</th>\n",
       "      <td>Buishand range test</td>\n",
       "      <td>50.0</td>\n",
       "      <td>1951-12-31</td>\n",
       "      <td>0.000000e+00</td>\n",
       "    </tr>\n",
       "    <tr>\n",
       "      <th>3</th>\n",
       "      <td>Bartels's test for randomness</td>\n",
       "      <td>NaN</td>\n",
       "      <td>NaT</td>\n",
       "      <td>2.360928e-19</td>\n",
       "    </tr>\n",
       "  </tbody>\n",
       "</table>\n",
       "</div>"
      ],
      "text/plain": [
       "                                             method  estimate  \\\n",
       "0           Standard Normal Homogeneity Test (SNHT)      50.0   \n",
       "1  Pettitt's test for single change-point detection      50.0   \n",
       "2                               Buishand range test      50.0   \n",
       "3                     Bartels's test for randomness       NaN   \n",
       "\n",
       "  estimate_formatted       p.value  \n",
       "0         1951-12-31  0.000000e+00  \n",
       "1         1951-12-31  1.668850e-14  \n",
       "2         1951-12-31  0.000000e+00  \n",
       "3                NaT  2.360928e-19  "
      ]
     },
     "execution_count": 3,
     "metadata": {},
     "output_type": "execute_result"
    },
    {
     "data": {
      "image/png": "[encoded data removed]",
      "text/plain": [
       "<Figure size 432x288 with 1 Axes>"
      ]
     },
     "metadata": {
      "needs_background": "light"
     },
     "output_type": "display_data"
    }
   ],
   "source": [
    "mydat = TrendLims1D('test data')\n",
    "mydat.create_artificial()\n",
    "mydat.plot()\n",
    "mydat.breakpoint_recipe_values()\n",
    "mydat.breakpoints"
   ]
  },
  {
   "cell_type": "code",
   "execution_count": 4,
   "metadata": {},
   "outputs": [
    {
     "name": "stdout",
     "output_type": "stream",
     "text": [
      "Warning: setting RNULLType to FloatVector with length zero before conversion to Python dictionary\n"
     ]
    },
    {
     "data": {
      "text/html": [
       "<div>\n",
       "<style scoped>\n",
       "    .dataframe tbody tr th:only-of-type {\n",
       "        vertical-align: middle;\n",
       "    }\n",
       "\n",
       "    .dataframe tbody tr th {\n",
       "        vertical-align: top;\n",
       "    }\n",
       "\n",
       "    .dataframe thead th {\n",
       "        text-align: right;\n",
       "    }\n",
       "</style>\n",
       "<table border=\"1\" class=\"dataframe\">\n",
       "  <thead>\n",
       "    <tr style=\"text-align: right;\">\n",
       "      <th></th>\n",
       "      <th>method</th>\n",
       "      <th>statistic</th>\n",
       "      <th>breakpoint</th>\n",
       "      <th>significance</th>\n",
       "    </tr>\n",
       "  </thead>\n",
       "  <tbody>\n",
       "    <tr>\n",
       "      <th>0</th>\n",
       "      <td>SNH Test</td>\n",
       "      <td>[60.42178118528709]</td>\n",
       "      <td>[50]</td>\n",
       "      <td>[p1]</td>\n",
       "    </tr>\n",
       "    <tr>\n",
       "      <th>1</th>\n",
       "      <td>Petitt Test</td>\n",
       "      <td>[2336.0]</td>\n",
       "      <td>[50]</td>\n",
       "      <td>[p1]</td>\n",
       "    </tr>\n",
       "    <tr>\n",
       "      <th>2</th>\n",
       "      <td>Buishand Range Test</td>\n",
       "      <td>[3.8865724354914284]</td>\n",
       "      <td>[51]</td>\n",
       "      <td>[p1]</td>\n",
       "    </tr>\n",
       "    <tr>\n",
       "      <th>3</th>\n",
       "      <td>Von Neumann Ratio test</td>\n",
       "      <td>[0.1954118981435351]</td>\n",
       "      <td>[]</td>\n",
       "      <td>[p1]</td>\n",
       "    </tr>\n",
       "  </tbody>\n",
       "</table>\n",
       "</div>"
      ],
      "text/plain": [
       "                   method             statistic breakpoint significance\n",
       "0                SNH Test   [60.42178118528709]       [50]         [p1]\n",
       "1             Petitt Test              [2336.0]       [50]         [p1]\n",
       "2     Buishand Range Test  [3.8865724354914284]       [51]         [p1]\n",
       "3  Von Neumann Ratio test  [0.1954118981435351]         []         [p1]"
      ]
     },
     "execution_count": 4,
     "metadata": {},
     "output_type": "execute_result"
    }
   ],
   "source": [
    "mydat.breakpoint_recipe_values(rpackagename='iki.dataclim')\n",
    "mydat.breakpoints"
   ]
  }
 ],
 "metadata": {
  "kernelspec": {
   "display_name": "Python 3",
   "language": "python",
   "name": "python3"
  },
  "language_info": {
   "codemirror_mode": {
    "name": "ipython",
    "version": 3
   },
   "file_extension": ".py",
   "mimetype": "text/x-python",
   "name": "python",
   "nbconvert_exporter": "python",
   "pygments_lexer": "ipython3",
   "version": "3.6.6"
  }
 },
 "nbformat": 4,
 "nbformat_minor": 2
}
